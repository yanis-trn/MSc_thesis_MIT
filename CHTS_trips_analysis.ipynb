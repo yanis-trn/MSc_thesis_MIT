{
 "cells": [
  {
   "cell_type": "code",
   "execution_count": 2,
   "metadata": {},
   "outputs": [
    {
     "name": "stderr",
     "output_type": "stream",
     "text": [
      "Setting default log level to \"WARN\".\n",
      "To adjust logging level use sc.setLogLevel(newLevel). For SparkR, use setLogLevel(newLevel).\n",
      "25/02/13 18:12:58 WARN NativeCodeLoader: Unable to load native-hadoop library for your platform... using builtin-java classes where applicable\n",
      "25/02/13 18:12:59 WARN Utils: Service 'SparkUI' could not bind on port 4040. Attempting port 4041.\n"
     ]
    }
   ],
   "source": [
    "from pyspark.sql import SparkSession\n",
    "\n",
    "spark = SparkSession.builder.appName(\"TestSpark\").getOrCreate()"
   ]
  },
  {
   "cell_type": "code",
   "execution_count": 3,
   "metadata": {},
   "outputs": [
    {
     "name": "stdout",
     "output_type": "stream",
     "text": [
      "+-------+-----+---------+------------+----------------+-------------------+-------------------+------------+--------------+-------------+-------------+----------+----------+---------------+---------------+------------------------+-------+------------+-----------+------------+------+--------+---------------+--------------------+--------+\n",
      "| sampno|vehno|gpstripid|gpstravdayid|gpstravdaytripid|         start_time|           end_time|duration_min|distance_miles|avg_speed_mph|max_speed_mph|origin_lon|origin_lat|destination_lon|destination_lat|destination_distfromlast|gaptime|tripareatype|workrelated|nontransport|onsite|looptrip|origin_loc_type|destination_loc_type|    geom|\n",
      "+-------+-----+---------+------------+----------------+-------------------+-------------------+------------+--------------+-------------+-------------+----------+----------+---------------+---------------+------------------------+-------+------------+-----------+------------+------+--------+---------------+--------------------+--------+\n",
      "|1776019|    2|       28|           7|               2|2012-09-24 07:51:23|2012-09-24 07:58:04|    6.679999|        2.0926|        18.79|         41.6|  REDACTED|  REDACTED|       REDACTED|       REDACTED|                15.58399| 342.42|           1|          0|           0|     0|       0|         SCHOOL|                HOME|REDACTED|\n",
      "|2759536|    2|       13|           3|               7|2012-12-09 20:58:43|2012-12-09 21:23:58|       25.25|       18.7845|    44.639999|         68.8|  REDACTED|  REDACTED|       REDACTED|       REDACTED|               36.801053| 876.32|           1|          0|           0|     0|       0|          OTHER|                HOME|REDACTED|\n",
      "|2055542|    1|       14|           6|               1|2012-07-24 08:49:38|2012-07-24 08:50:32|    0.899999|      0.169699|        11.31|         27.1|  REDACTED|  REDACTED|       REDACTED|       REDACTED|               93.900105|   4.82|           1|          0|           0|     0|       0|           HOME|                HOME|REDACTED|\n",
      "|2556033|    1|        4|           1|               4|2012-10-12 16:56:04|2012-10-12 17:18:15|       22.18|       10.0907|        27.29|         60.3|  REDACTED|  REDACTED|       REDACTED|       REDACTED|               18.910548|1098.68|           1|          0|           0|     0|       0|          OTHER|                HOME|REDACTED|\n",
      "|2759536|    1|        9|           5|               5|2012-12-11 17:44:06|2012-12-11 18:12:42|        28.6|       14.1547|         29.7|         68.5|  REDACTED|  REDACTED|       REDACTED|       REDACTED|                39.54827| 875.88|           1|          0|           0|     0|       0|          OTHER|                HOME|REDACTED|\n",
      "|2577440|    1|       16|           5|               1|2012-12-14 05:19:57|2012-12-14 05:29:41|    9.729999|      4.809199|    29.649999|         44.7|  REDACTED|  REDACTED|       REDACTED|       REDACTED|               17.423952|  82.35|           1|          0|           0|     0|       0|           HOME|               OTHER|REDACTED|\n",
      "|1318928|    1|        9|           3|               1|2012-03-07 07:38:01|2012-03-07 07:47:38|    9.619999|      3.940399|        24.59|         48.7|  REDACTED|  REDACTED|       REDACTED|       REDACTED|             1247.953789| 287.92|           1|          0|           0|     0|       0|           HOME|                WORK|REDACTED|\n",
      "|2959995|    2|        3|           2|               3|2012-12-17 10:38:17|2012-12-17 10:43:58|    5.679999|        1.9254|    20.329999|         36.0|  REDACTED|  REDACTED|       REDACTED|       REDACTED|               12.006199|   6.83|           1|          0|           0|     0|       0|           HOME|               OTHER|REDACTED|\n",
      "|1120935|    1|        2|           1|               2|2012-03-05 20:05:27|2012-03-05 20:36:41|   31.229999|     32.423698|        62.29|         75.2|  REDACTED|  REDACTED|       REDACTED|       REDACTED|               25.250907| 686.92|           1|          0|           0|     0|       0|          OTHER|                HOME|REDACTED|\n",
      "|3052193|    3|       21|           6|               6|2013-01-10 16:57:45|2013-01-10 16:58:34|    0.819999|      0.114699|         8.43|         20.6|  REDACTED|  REDACTED|       REDACTED|       REDACTED|               12.116607|   5.78|           1|          0|           0|     0|       0|          OTHER|               OTHER|REDACTED|\n",
      "|7204239|    1|        1|           1|               1|2013-01-16 07:17:16|2013-01-16 07:47:27|       30.18|       18.1576|        36.09|         72.6|  REDACTED|  REDACTED|       REDACTED|       REDACTED|                    NULL| 296.47|           1|          0|           0|     0|       0|          OTHER|                WORK|REDACTED|\n",
      "|2118071|    3|        7|           2|               1|2012-10-07 13:07:50|2012-10-07 13:19:48|       11.97|      4.793399|        24.03|         58.6|  REDACTED|  REDACTED|       REDACTED|       REDACTED|               27.284676|   8.08|           1|          0|           0|     0|       0|           HOME|               OTHER|REDACTED|\n",
      "|1121105|    2|        9|           1|               9|2012-03-30 16:00:56|2012-03-30 16:01:38|    0.699999|        0.1133|         9.71|         14.4|  REDACTED|  REDACTED|       REDACTED|       REDACTED|                8.317866| 106.43|           1|          0|           0|     0|       0|          OTHER|               OTHER|REDACTED|\n",
      "|2645047|    1|       34|           7|               2|2012-11-27 18:03:54|2012-11-27 18:34:27|   30.549999|     23.050699|        45.27|         78.8|  REDACTED|  REDACTED|       REDACTED|       REDACTED|              127.203702|    3.3|           1|          0|           0|     0|       0|           WORK|               OTHER|REDACTED|\n",
      "|1729827|    1|       24|           4|               3|2012-06-15 11:00:51|2012-06-15 11:15:37|       14.77|        9.1272|        37.09|         60.0|  REDACTED|  REDACTED|       REDACTED|       REDACTED|                7.214943|  47.23|           1|          0|           0|     0|       0|          OTHER|               OTHER|REDACTED|\n",
      "|2951975|    2|       14|           3|               3|2012-12-08 13:44:53|2012-12-08 13:47:57|    3.069999|      0.545199|        10.67|         33.3|  REDACTED|  REDACTED|       REDACTED|       REDACTED|               10.081873|    4.5|           1|          0|           0|     0|       0|          OTHER|               OTHER|REDACTED|\n",
      "|1035198|    3|       48|           7|               2|2012-05-28 09:53:37|2012-05-28 09:53:56|    0.319999|        0.0384|         7.28|         10.2|  REDACTED|  REDACTED|       REDACTED|       REDACTED|              137.794546|   6.73|           1|          0|           0|     1|       0|          OTHER|               OTHER|REDACTED|\n",
      "|2195580|    1|       42|           4|              14|2012-10-11 23:49:06|2012-10-12 00:06:12|        17.1|       12.9292|    45.369998|         72.2|  REDACTED|  REDACTED|       REDACTED|       REDACTED|                2.824867| 407.78|           1|          0|           0|     0|       0|          OTHER|                HOME|REDACTED|\n",
      "|2264740|    1|        7|           2|               3|2012-06-29 16:06:11|2012-06-29 16:30:39|   24.469999|       13.4635|        33.02|         87.4|  REDACTED|  REDACTED|       REDACTED|       REDACTED|               20.993124|   15.0|           1|          0|           0|     0|       0|          OTHER|                HOME|REDACTED|\n",
      "|2759536|    2|       11|           3|               5|2012-12-09 15:51:53|2012-12-09 16:01:54|       10.02|      5.603199|    33.560001|         74.4|  REDACTED|  REDACTED|       REDACTED|       REDACTED|               13.318648| 100.22|           1|          0|           0|     0|       0|          OTHER|               OTHER|REDACTED|\n",
      "+-------+-----+---------+------------+----------------+-------------------+-------------------+------------+--------------+-------------+-------------+----------+----------+---------------+---------------+------------------------+-------+------------+-----------+------------+------+--------+---------------+--------------------+--------+\n",
      "only showing top 20 rows\n",
      "\n"
     ]
    },
    {
     "data": {
      "text/plain": [
       "19075"
      ]
     },
     "execution_count": 3,
     "metadata": {},
     "output_type": "execute_result"
    }
   ],
   "source": [
    "df_v_gpstrips = spark.read.option(\"header\", True).csv(\"data/v_gpstrips.csv\")\n",
    "\n",
    "# Show the first few rows\n",
    "df_v_gpstrips.show()\n",
    "\n",
    "df_v_gpstrips.count()"
   ]
  },
  {
   "cell_type": "code",
   "execution_count": 4,
   "metadata": {},
   "outputs": [],
   "source": [
    "from pyspark.sql.functions import col\n",
    "from pyspark.sql.types import TimestampType\n",
    "\n",
    "columns_to_convert = ['duration_min', 'distance_miles']  # List of columns to convert\n",
    "\n",
    "for col_name in columns_to_convert:\n",
    "    df_v_gpstrips = df_v_gpstrips.withColumn(col_name, col(col_name).cast(\"float\"))\n",
    "\n",
    "time_columns = [\"start_time\", \"end_time\"]\n",
    "\n",
    "for col_name in time_columns:\n",
    "    df_v_gpstrips = df_v_gpstrips.withColumn(col_name, col(col_name).cast(TimestampType()))\n",
    "\n"
   ]
  },
  {
   "cell_type": "code",
   "execution_count": 5,
   "metadata": {},
   "outputs": [
    {
     "name": "stderr",
     "output_type": "stream",
     "text": [
      "25/02/13 18:13:10 WARN SparkStringUtils: Truncated the string representation of a plan since it was too large. This behavior can be adjusted by setting 'spark.sql.debug.maxToStringFields'.\n"
     ]
    },
    {
     "name": "stdout",
     "output_type": "stream",
     "text": [
      "+-------+-----+---------+------------+----------------+-------------------+-------------------+------------+--------------+-------------+-------------+----------+----------+---------------+---------------+------------------------+-------+------------+-----------+------------+------+--------+---------------+--------------------+--------+---------------+\n",
      "| sampno|vehno|gpstripid|gpstravdayid|gpstravdaytripid|         start_time|           end_time|duration_min|distance_miles|avg_speed_mph|max_speed_mph|origin_lon|origin_lat|destination_lon|destination_lat|destination_distfromlast|gaptime|tripareatype|workrelated|nontransport|onsite|looptrip|origin_loc_type|destination_loc_type|    geom|start_time_hour|\n",
      "+-------+-----+---------+------------+----------------+-------------------+-------------------+------------+--------------+-------------+-------------+----------+----------+---------------+---------------+------------------------+-------+------------+-----------+------------+------+--------+---------------+--------------------+--------+---------------+\n",
      "|1776019|    2|       28|           7|               2|2012-09-24 07:51:23|2012-09-24 07:58:04|    6.679999|        2.0926|        18.79|         41.6|  REDACTED|  REDACTED|       REDACTED|       REDACTED|                15.58399| 342.42|           1|          0|           0|     0|       0|         SCHOOL|                HOME|REDACTED|       07:51:23|\n",
      "|2759536|    2|       13|           3|               7|2012-12-09 20:58:43|2012-12-09 21:23:58|       25.25|       18.7845|    44.639999|         68.8|  REDACTED|  REDACTED|       REDACTED|       REDACTED|               36.801053| 876.32|           1|          0|           0|     0|       0|          OTHER|                HOME|REDACTED|       20:58:43|\n",
      "|2055542|    1|       14|           6|               1|2012-07-24 08:49:38|2012-07-24 08:50:32|    0.899999|      0.169699|        11.31|         27.1|  REDACTED|  REDACTED|       REDACTED|       REDACTED|               93.900105|   4.82|           1|          0|           0|     0|       0|           HOME|                HOME|REDACTED|       08:49:38|\n",
      "|2556033|    1|        4|           1|               4|2012-10-12 16:56:04|2012-10-12 17:18:15|       22.18|       10.0907|        27.29|         60.3|  REDACTED|  REDACTED|       REDACTED|       REDACTED|               18.910548|1098.68|           1|          0|           0|     0|       0|          OTHER|                HOME|REDACTED|       16:56:04|\n",
      "|2759536|    1|        9|           5|               5|2012-12-11 17:44:06|2012-12-11 18:12:42|        28.6|       14.1547|         29.7|         68.5|  REDACTED|  REDACTED|       REDACTED|       REDACTED|                39.54827| 875.88|           1|          0|           0|     0|       0|          OTHER|                HOME|REDACTED|       17:44:06|\n",
      "|2577440|    1|       16|           5|               1|2012-12-14 05:19:57|2012-12-14 05:29:41|    9.729999|      4.809199|    29.649999|         44.7|  REDACTED|  REDACTED|       REDACTED|       REDACTED|               17.423952|  82.35|           1|          0|           0|     0|       0|           HOME|               OTHER|REDACTED|       05:19:57|\n",
      "|1318928|    1|        9|           3|               1|2012-03-07 07:38:01|2012-03-07 07:47:38|    9.619999|      3.940399|        24.59|         48.7|  REDACTED|  REDACTED|       REDACTED|       REDACTED|             1247.953789| 287.92|           1|          0|           0|     0|       0|           HOME|                WORK|REDACTED|       07:38:01|\n",
      "|2959995|    2|        3|           2|               3|2012-12-17 10:38:17|2012-12-17 10:43:58|    5.679999|        1.9254|    20.329999|         36.0|  REDACTED|  REDACTED|       REDACTED|       REDACTED|               12.006199|   6.83|           1|          0|           0|     0|       0|           HOME|               OTHER|REDACTED|       10:38:17|\n",
      "|1120935|    1|        2|           1|               2|2012-03-05 20:05:27|2012-03-05 20:36:41|       31.23|       32.4237|        62.29|         75.2|  REDACTED|  REDACTED|       REDACTED|       REDACTED|               25.250907| 686.92|           1|          0|           0|     0|       0|          OTHER|                HOME|REDACTED|       20:05:27|\n",
      "|3052193|    3|       21|           6|               6|2013-01-10 16:57:45|2013-01-10 16:58:34|    0.819999|      0.114699|         8.43|         20.6|  REDACTED|  REDACTED|       REDACTED|       REDACTED|               12.116607|   5.78|           1|          0|           0|     0|       0|          OTHER|               OTHER|REDACTED|       16:57:45|\n",
      "|7204239|    1|        1|           1|               1|2013-01-16 07:17:16|2013-01-16 07:47:27|       30.18|       18.1576|        36.09|         72.6|  REDACTED|  REDACTED|       REDACTED|       REDACTED|                    NULL| 296.47|           1|          0|           0|     0|       0|          OTHER|                WORK|REDACTED|       07:17:16|\n",
      "|2118071|    3|        7|           2|               1|2012-10-07 13:07:50|2012-10-07 13:19:48|       11.97|      4.793399|        24.03|         58.6|  REDACTED|  REDACTED|       REDACTED|       REDACTED|               27.284676|   8.08|           1|          0|           0|     0|       0|           HOME|               OTHER|REDACTED|       13:07:50|\n",
      "|1121105|    2|        9|           1|               9|2012-03-30 16:00:56|2012-03-30 16:01:38|    0.699999|        0.1133|         9.71|         14.4|  REDACTED|  REDACTED|       REDACTED|       REDACTED|                8.317866| 106.43|           1|          0|           0|     0|       0|          OTHER|               OTHER|REDACTED|       16:00:56|\n",
      "|2645047|    1|       34|           7|               2|2012-11-27 18:03:54|2012-11-27 18:34:27|       30.55|       23.0507|        45.27|         78.8|  REDACTED|  REDACTED|       REDACTED|       REDACTED|              127.203702|    3.3|           1|          0|           0|     0|       0|           WORK|               OTHER|REDACTED|       18:03:54|\n",
      "|1729827|    1|       24|           4|               3|2012-06-15 11:00:51|2012-06-15 11:15:37|       14.77|        9.1272|        37.09|         60.0|  REDACTED|  REDACTED|       REDACTED|       REDACTED|                7.214943|  47.23|           1|          0|           0|     0|       0|          OTHER|               OTHER|REDACTED|       11:00:51|\n",
      "|2951975|    2|       14|           3|               3|2012-12-08 13:44:53|2012-12-08 13:47:57|    3.069999|      0.545199|        10.67|         33.3|  REDACTED|  REDACTED|       REDACTED|       REDACTED|               10.081873|    4.5|           1|          0|           0|     0|       0|          OTHER|               OTHER|REDACTED|       13:44:53|\n",
      "|1035198|    3|       48|           7|               2|2012-05-28 09:53:37|2012-05-28 09:53:56|    0.319999|        0.0384|         7.28|         10.2|  REDACTED|  REDACTED|       REDACTED|       REDACTED|              137.794546|   6.73|           1|          0|           0|     1|       0|          OTHER|               OTHER|REDACTED|       09:53:37|\n",
      "|2195580|    1|       42|           4|              14|2012-10-11 23:49:06|2012-10-12 00:06:12|        17.1|       12.9292|    45.369998|         72.2|  REDACTED|  REDACTED|       REDACTED|       REDACTED|                2.824867| 407.78|           1|          0|           0|     0|       0|          OTHER|                HOME|REDACTED|       23:49:06|\n",
      "|2264740|    1|        7|           2|               3|2012-06-29 16:06:11|2012-06-29 16:30:39|       24.47|       13.4635|        33.02|         87.4|  REDACTED|  REDACTED|       REDACTED|       REDACTED|               20.993124|   15.0|           1|          0|           0|     0|       0|          OTHER|                HOME|REDACTED|       16:06:11|\n",
      "|2759536|    2|       11|           3|               5|2012-12-09 15:51:53|2012-12-09 16:01:54|       10.02|      5.603199|    33.560001|         74.4|  REDACTED|  REDACTED|       REDACTED|       REDACTED|               13.318648| 100.22|           1|          0|           0|     0|       0|          OTHER|               OTHER|REDACTED|       15:51:53|\n",
      "+-------+-----+---------+------------+----------------+-------------------+-------------------+------------+--------------+-------------+-------------+----------+----------+---------------+---------------+------------------------+-------+------------+-----------+------------+------+--------+---------------+--------------------+--------+---------------+\n",
      "only showing top 20 rows\n",
      "\n"
     ]
    }
   ],
   "source": [
    "from pyspark.sql.functions import date_format\n",
    "\n",
    "df_v_gpstrips = df_v_gpstrips.withColumn(\"start_time_hour\", date_format(\"start_time\", \"HH:mm:ss\"))\n",
    "\n",
    "df_v_gpstrips.show()"
   ]
  },
  {
   "cell_type": "code",
   "execution_count": 6,
   "metadata": {},
   "outputs": [],
   "source": [
    "import pandas as pd \n",
    "import matplotlib.pyplot as plt\n",
    "import seaborn as sns\n",
    "\n",
    "# Convert PySpark DataFrame to Pandas\n",
    "pandas_df = df_v_gpstrips.select(\"start_time_hour\").toPandas()\n",
    "\n",
    "# Sort time strings properly before plotting\n",
    "pandas_df[\"start_time_hour\"] = pd.Categorical(pandas_df[\"start_time_hour\"], ordered=True)\n",
    "\n"
   ]
  },
  {
   "cell_type": "code",
   "execution_count": 7,
   "metadata": {},
   "outputs": [
    {
     "data": {
      "text/html": [
       "<div>\n",
       "<style scoped>\n",
       "    .dataframe tbody tr th:only-of-type {\n",
       "        vertical-align: middle;\n",
       "    }\n",
       "\n",
       "    .dataframe tbody tr th {\n",
       "        vertical-align: top;\n",
       "    }\n",
       "\n",
       "    .dataframe thead th {\n",
       "        text-align: right;\n",
       "    }\n",
       "</style>\n",
       "<table border=\"1\" class=\"dataframe\">\n",
       "  <thead>\n",
       "    <tr style=\"text-align: right;\">\n",
       "      <th></th>\n",
       "      <th>start_time_hour</th>\n",
       "    </tr>\n",
       "  </thead>\n",
       "  <tbody>\n",
       "    <tr>\n",
       "      <th>0</th>\n",
       "      <td>07:51:23</td>\n",
       "    </tr>\n",
       "    <tr>\n",
       "      <th>1</th>\n",
       "      <td>20:58:43</td>\n",
       "    </tr>\n",
       "    <tr>\n",
       "      <th>2</th>\n",
       "      <td>08:49:38</td>\n",
       "    </tr>\n",
       "    <tr>\n",
       "      <th>3</th>\n",
       "      <td>16:56:04</td>\n",
       "    </tr>\n",
       "    <tr>\n",
       "      <th>4</th>\n",
       "      <td>17:44:06</td>\n",
       "    </tr>\n",
       "    <tr>\n",
       "      <th>...</th>\n",
       "      <td>...</td>\n",
       "    </tr>\n",
       "    <tr>\n",
       "      <th>19070</th>\n",
       "      <td>11:42:09</td>\n",
       "    </tr>\n",
       "    <tr>\n",
       "      <th>19071</th>\n",
       "      <td>09:28:54</td>\n",
       "    </tr>\n",
       "    <tr>\n",
       "      <th>19072</th>\n",
       "      <td>14:17:43</td>\n",
       "    </tr>\n",
       "    <tr>\n",
       "      <th>19073</th>\n",
       "      <td>16:42:33</td>\n",
       "    </tr>\n",
       "    <tr>\n",
       "      <th>19074</th>\n",
       "      <td>06:54:28</td>\n",
       "    </tr>\n",
       "  </tbody>\n",
       "</table>\n",
       "<p>19075 rows × 1 columns</p>\n",
       "</div>"
      ],
      "text/plain": [
       "      start_time_hour\n",
       "0            07:51:23\n",
       "1            20:58:43\n",
       "2            08:49:38\n",
       "3            16:56:04\n",
       "4            17:44:06\n",
       "...               ...\n",
       "19070        11:42:09\n",
       "19071        09:28:54\n",
       "19072        14:17:43\n",
       "19073        16:42:33\n",
       "19074        06:54:28\n",
       "\n",
       "[19075 rows x 1 columns]"
      ]
     },
     "execution_count": 7,
     "metadata": {},
     "output_type": "execute_result"
    }
   ],
   "source": [
    "pandas_df"
   ]
  },
  {
   "cell_type": "code",
   "execution_count": 9,
   "metadata": {},
   "outputs": [
    {
     "data": {
      "text/plain": [
       "Text(0, 0.5, 'Frequency')"
      ]
     },
     "execution_count": 9,
     "metadata": {},
     "output_type": "execute_result"
    },
    {
     "data": {
      "image/png": "[encoded data removed]",
      "text/plain": [
       "<Figure size 640x480 with 1 Axes>"
      ]
     },
     "metadata": {},
     "output_type": "display_data"
    }
   ],
   "source": [
    "\n",
    "plt.title(\"Distribution of Start Times Over a Day\")\n",
    "plt.figure(figsize=(12, 6))\n",
    "\n",
    "pandas_df_sample = pandas_df.sample(frac=0.01, random_state=42)  # Take 10% of data\n",
    "sns.histplot(pandas_df_sample[\"start_time_hour\"], bins=288, kde=True)\n",
    "\n",
    "plt.xticks(rotation=45)\n",
    "plt.xlabel(\"Time of Day (HH:MM:SS)\")\n",
    "plt.ylabel(\"Frequency\")"
   ]
  },
  {
   "cell_type": "code",
   "execution_count": 28,
   "metadata": {},
   "outputs": [
    {
     "name": "stdout",
     "output_type": "stream",
     "text": [
      "Column: sampno, Type: string\n",
      "Column: vehno, Type: string\n",
      "Column: gpstripid, Type: string\n",
      "Column: gpstravdayid, Type: string\n",
      "Column: gpstravdaytripid, Type: string\n",
      "Column: start_time, Type: timestamp\n",
      "Column: end_time, Type: timestamp\n",
      "Column: duration_min, Type: float\n",
      "Column: distance_miles, Type: float\n",
      "Column: avg_speed_mph, Type: string\n",
      "Column: max_speed_mph, Type: string\n",
      "Column: origin_lon, Type: string\n",
      "Column: origin_lat, Type: string\n",
      "Column: destination_lon, Type: string\n",
      "Column: destination_lat, Type: string\n",
      "Column: destination_distfromlast, Type: string\n",
      "Column: gaptime, Type: string\n",
      "Column: tripareatype, Type: string\n",
      "Column: workrelated, Type: string\n",
      "Column: nontransport, Type: string\n",
      "Column: onsite, Type: string\n",
      "Column: looptrip, Type: string\n",
      "Column: origin_loc_type, Type: string\n",
      "Column: destination_loc_type, Type: string\n",
      "Column: geom, Type: string\n",
      "Column: start_time_hour, Type: string\n"
     ]
    }
   ],
   "source": [
    "for col_name, col_type in df_v_gpstrips.dtypes:\n",
    "    print(f\"Column: {col_name}, Type: {col_type}\")\n"
   ]
  },
  {
   "cell_type": "code",
   "execution_count": 20,
   "metadata": {},
   "outputs": [
    {
     "name": "stdout",
     "output_type": "stream",
     "text": [
      "6.2489625371243624\n"
     ]
    }
   ],
   "source": [
    "from pyspark.sql.functions import mean\n",
    "\n",
    "mean_value = df_v_gpstrips.select(mean('distance_miles')).collect()[0][0]\n",
    "print(mean_value)"
   ]
  },
  {
   "cell_type": "code",
   "execution_count": 21,
   "metadata": {},
   "outputs": [
    {
     "data": {
      "image/png": "[encoded data removed]",
      "text/plain": [
       "<Figure size 1000x500 with 1 Axes>"
      ]
     },
     "metadata": {},
     "output_type": "display_data"
    }
   ],
   "source": [
    "\n",
    "\n",
    "# Convert column to Pandas DataFrame\n",
    "pandas_df = df_v_gpstrips.select('distance_miles').toPandas()\n",
    "\n",
    "# Plot distribution\n",
    "plt.figure(figsize=(10, 5))\n",
    "sns.histplot(pandas_df['distance_miles'], bins=50, kde=True)\n",
    "plt.axvline(mean_value, color='red', linestyle='dashed', linewidth=2, label=f'Mean: {mean_value:.2f}')\n",
    "plt.xlabel('distance_miles')\n",
    "plt.ylabel(\"Frequency\")\n",
    "plt.title(f\"Distribution of {'distance_miles'}\")\n",
    "plt.legend()\n",
    "plt.show()\n"
   ]
  },
  {
   "cell_type": "code",
   "execution_count": 5,
   "metadata": {},
   "outputs": [
    {
     "name": "stdout",
     "output_type": "stream",
     "text": [
      "+-------+-----+---------+------------+----------------+-------------------+-------------------+------------+--------------+-------------+-------------+-----------+--------+------------+------------+------------+----------+----------+---------------+---------------+----------------+-------+------------+-----------+------------+------+--------+---------------+--------------------+--------+\n",
      "| sampno|perno|gpstripid|gpstravdayid|gpstravdaytripid|         start_time|           end_time|duration_min|distance_miles|avg_speed_mph|max_speed_mph|travel_mode|nbstages|travmodelist|numuniqmodes|uniqmodelist|origin_lon|origin_lat|destination_lon|destination_lat|distfromlastdest|gaptime|tripareatype|workrelated|no_transport|onsite|looptrip|origin_loc_type|destination_loc_type|    geom|\n",
      "+-------+-----+---------+------------+----------------+-------------------+-------------------+------------+--------------+-------------+-------------+-----------+--------+------------+------------+------------+----------+----------+---------------+---------------+----------------+-------+------------+-----------+------------+------+--------+---------------+--------------------+--------+\n",
      "|1043613|    1|       10|           3|               3|2012-05-18 09:08:30|2012-05-18 09:17:40|        9.17|      1.583199|    10.718562|         33.6|          5|       2|         1,5|           2|         1,5|  REDACTED|  REDACTED|       REDACTED|       REDACTED|      238.811297|   7.25|           1|          0|           0|     0|       0|           WORK|               OTHER|REDACTED|\n",
      "|1043613|    1|       11|           3|               4|2012-05-18 09:24:55|2012-05-18 09:29:32|    4.619999|        0.2055|     2.380459|          3.7|          1|       1|           1|           1|           1|  REDACTED|  REDACTED|       REDACTED|       REDACTED|       33.574474| 140.67|           1|          0|           0|     0|       0|          OTHER|               OTHER|REDACTED|\n",
      "|1043613|    1|       12|           3|               5|2012-05-18 11:50:12|2012-05-18 11:53:02|    2.829999|      0.128299|     2.095999|          3.7|          1|       1|           1|           1|           1|  REDACTED|  REDACTED|       REDACTED|       REDACTED|      300.114514|  106.0|           1|          0|           0|     0|       0|          OTHER|               OTHER|REDACTED|\n",
      "|1055449|    1|       12|           2|               7|2012-07-18 14:54:37|2012-07-18 14:58:19|         3.7|      1.040899|    17.689855|         37.3|          5|       1|           5|           1|           5|  REDACTED|  REDACTED|       REDACTED|       REDACTED|       30.078829|  31.13|           1|          0|           0|     0|       0|           WORK|               OTHER|REDACTED|\n",
      "|1043613|    1|       16|           3|               9|2012-05-18 17:54:19|2012-05-18 17:57:22|    3.049999|      0.110899|     1.647058|          2.5|          1|       1|           1|           1|           1|  REDACTED|  REDACTED|       REDACTED|       REDACTED|       37.030667|    0.0|           1|          0|           0|     0|       0|           HOME|                HOME|REDACTED|\n",
      "|1123587|    1|        6|           2|               1|2012-02-21 17:06:28|2012-02-21 17:14:23|        7.92|        2.8403|    26.196825|         45.4|          5|       2|         1,5|           2|         1,5|  REDACTED|  REDACTED|       REDACTED|       REDACTED|            NULL|   52.2|           1|          0|           0|     0|       0|           HOME|               OTHER|REDACTED|\n",
      "|1043613|    2|        2|           1|               2|2012-05-16 10:32:41|2012-05-16 10:38:27|    5.769999|        0.3027|     2.469369|          3.7|          1|       1|           1|           1|           1|  REDACTED|  REDACTED|       REDACTED|       REDACTED|       57.080807|  49.88|           1|          0|           0|     1|       0|          OTHER|                WORK|REDACTED|\n",
      "|1043613|    2|        3|           1|               3|2012-05-16 11:28:20|2012-05-16 12:01:41|   33.349998|       22.0011|    47.103051|         77.0|          5|       2|         1,5|           2|         1,5|  REDACTED|  REDACTED|       REDACTED|       REDACTED|      200.947835| 176.92|           1|          0|           0|     0|       0|           WORK|               OTHER|REDACTED|\n",
      "|1043613|    2|        4|           1|               4|2012-05-16 14:58:36|2012-05-16 15:03:30|         4.9|      0.735199|     13.22923|         29.2|          5|       1|           5|           1|           5|  REDACTED|  REDACTED|       REDACTED|       REDACTED|         6.73644|   0.67|           1|          0|           0|     0|       0|          OTHER|               OTHER|REDACTED|\n",
      "|1043613|    2|        5|           1|               5|2012-05-16 15:04:10|2012-05-16 15:37:20|   33.169998|       18.9918|    41.639598|         72.1|          5|       2|         5,1|           2|         1,5|  REDACTED|  REDACTED|       REDACTED|       REDACTED|        8.533762|  202.0|           1|          0|           0|     0|       0|          OTHER|                WORK|REDACTED|\n",
      "|1043613|    1|       15|           3|               8|2012-05-18 17:43:32|2012-05-18 17:48:10|        4.63|        0.1176|     1.613636|          3.1|          1|       1|           1|           1|           1|  REDACTED|  REDACTED|       REDACTED|       REDACTED|       19.959199|   6.15|           1|          0|           0|     0|       0|           HOME|                HOME|REDACTED|\n",
      "|1328096|    3|        3|           1|               3|2012-03-26 10:56:50|2012-03-26 10:57:39|    0.819999|        0.0386|     1.723529|          2.5|          1|       1|           1|           1|           1|  REDACTED|  REDACTED|       REDACTED|       REDACTED|        87.13352|    4.3|           1|          0|           0|     1|       0|          OTHER|               OTHER|REDACTED|\n",
      "|1328096|    3|       20|           3|               5|2012-03-28 11:15:39|2012-03-28 11:16:48|    1.149999|      0.052499|     2.319999|          3.1|          1|       1|           1|           1|           1|  REDACTED|  REDACTED|       REDACTED|       REDACTED|       93.742535|  90.43|           1|          0|           0|     1|       0|          OTHER|               OTHER|REDACTED|\n",
      "|1041494|    4|        2|           2|               2|2012-05-23 17:58:17|2012-05-23 18:17:33|       19.27|      9.669599|    38.477999|         69.6|          5|       2|         5,1|           2|         1,5|  REDACTED|  REDACTED|       REDACTED|       REDACTED|       12.228375|    0.0|           1|          0|           0|     0|       0|          OTHER|                HOME|REDACTED|\n",
      "|1043613|    2|        7|           2|               1|2012-05-17 17:41:21|2012-05-17 17:48:11|    6.829999|        1.5104|    13.173958|         25.5|          5|       1|           5|           1|           5|  REDACTED|  REDACTED|       REDACTED|       REDACTED|      932.161597| 1109.7|           1|          0|           0|     0|       0|           HOME|               OTHER|REDACTED|\n",
      "|1043613|    2|        8|           3|               1|2012-05-18 12:17:53|2012-05-18 12:18:38|        0.75|        0.8248|    66.556248|         69.6|          5|       1|           5|           1|           5|  REDACTED|  REDACTED|       REDACTED|       REDACTED|            NULL|  17.25|           1|          0|           0|     0|       0|          OTHER|               OTHER|REDACTED|\n",
      "|1043613|    2|        9|           3|               2|2012-05-18 12:35:53|2012-05-18 12:38:43|    2.829999|      0.129099|     2.368571|          4.3|          1|       1|           1|           1|           1|  REDACTED|  REDACTED|       REDACTED|       REDACTED|            NULL|  64.25|           1|          0|           0|     0|       0|           WORK|               OTHER|REDACTED|\n",
      "|1043613|    1|        1|           1|               1|2012-05-16 08:19:05|2012-05-16 08:39:28|   20.379999|      4.839799|    19.397916|         73.9|          5|       2|         5,1|           2|         1,5|  REDACTED|  REDACTED|       REDACTED|       REDACTED|            NULL| 213.28|           1|          0|           0|     0|       0|           HOME|                WORK|REDACTED|\n",
      "|1329631|    1|        1|           1|               1|2012-04-06 11:27:24|2012-04-06 11:34:37|    7.219999|      2.318399|      29.1125|         64.0|          5|       2|         5,1|           2|         1,5|  REDACTED|  REDACTED|       REDACTED|       REDACTED|            NULL| 159.77|           1|          0|           0|     0|       0|          OTHER|               OTHER|REDACTED|\n",
      "|1043613|    2|       11|           3|               4|2012-05-18 14:05:09|2012-05-18 14:10:12|        5.05|      3.689399|    34.949999|         69.6|          5|       1|           5|           1|           5|  REDACTED|  REDACTED|       REDACTED|       REDACTED|            NULL| 165.27|           1|          0|           0|     0|       0|          OTHER|               OTHER|REDACTED|\n",
      "+-------+-----+---------+------------+----------------+-------------------+-------------------+------------+--------------+-------------+-------------+-----------+--------+------------+------------+------------+----------+----------+---------------+---------------+----------------+-------+------------+-----------+------------+------+--------+---------------+--------------------+--------+\n",
      "only showing top 20 rows\n",
      "\n"
     ]
    },
    {
     "data": {
      "text/plain": [
       "121599"
      ]
     },
     "execution_count": 5,
     "metadata": {},
     "output_type": "execute_result"
    }
   ],
   "source": [
    "df_w_gpstrips = spark.read.option(\"header\", True).csv(\"data/w_gpstrips.csv\")\n",
    "\n",
    "# Show the first few rows\n",
    "df_w_gpstrips.show()\n",
    "\n",
    "df_w_gpstrips.count()"
   ]
  },
  {
   "cell_type": "code",
   "execution_count": 7,
   "metadata": {},
   "outputs": [
    {
     "name": "stdout",
     "output_type": "stream",
     "text": [
      "+-------+-----+---------+------------+----------------+-------------------+-------------------+------------+--------------+-------------+-------------+----------+----------+---------------+---------------+------------------------+-------+------------+-----------+------------+------+--------+---------------+--------------------+--------+\n",
      "| sampno|vehno|gpstripid|gpstravdayid|gpstravdaytripid|         start_time|           end_time|duration_min|distance_miles|avg_speed_mph|max_speed_mph|origin_lon|origin_lat|destination_lon|destination_lat|destination_distfromlast|gaptime|tripareatype|workrelated|nontransport|onsite|looptrip|origin_loc_type|destination_loc_type|    geom|\n",
      "+-------+-----+---------+------------+----------------+-------------------+-------------------+------------+--------------+-------------+-------------+----------+----------+---------------+---------------+------------------------+-------+------------+-----------+------------+------+--------+---------------+--------------------+--------+\n",
      "|2398459|    1|       22|           6|               2|2012-10-27 14:00:48|2012-10-27 14:05:59|    5.179999|      1.430799|    16.559999|         29.6|  REDACTED|  REDACTED|       REDACTED|       REDACTED|               49.096629| 170.32|           1|          0|           0|     0|       0|          OTHER|                HOME|REDACTED|\n",
      "|2527393|    1|        1|           1|               1|2012-10-19 16:13:55|2012-10-19 16:15:52|        1.95|      0.531599|        16.36|         43.7|  REDACTED|  REDACTED|       REDACTED|       REDACTED|                    NULL|  12.65|           1|          0|           0|     0|       0|           HOME|               OTHER|REDACTED|\n",
      "|2536174|    1|       21|           5|               3|2012-10-13 11:38:56|2012-10-13 11:55:46|   16.829999|        3.8248|        13.63|         31.8|  REDACTED|  REDACTED|       REDACTED|       REDACTED|               37.173378|   6.05|           1|          0|           0|     0|       0|           HOME|               OTHER|REDACTED|\n",
      "|2417842|    1|       39|           5|              10|2012-08-14 21:33:14|2012-08-14 21:40:43|        7.48|         2.308|        18.51|         49.1|  REDACTED|  REDACTED|       REDACTED|       REDACTED|                7.187464| 538.88|           1|          0|           0|     0|       0|          OTHER|                HOME|REDACTED|\n",
      "|2420150|    3|       15|           4|               2|2012-07-09 08:41:21|2012-07-09 08:43:31|        2.17|        0.6703|    18.559999|         44.2|  REDACTED|  REDACTED|       REDACTED|       REDACTED|                8.439126|  63.18|           1|          0|           0|     0|       0|          OTHER|               OTHER|REDACTED|\n",
      "|2476266|    2|        6|           4|               4|2013-01-24 12:20:54|2013-01-24 12:27:26|        6.53|        3.9254|    36.049999|         57.3|  REDACTED|  REDACTED|       REDACTED|       REDACTED|              830.699225|  57.73|           1|          0|           0|     0|       0|          OTHER|                HOME|REDACTED|\n",
      "|2480268|    3|       14|           3|               6|2012-11-01 13:13:32|2012-11-01 13:14:00|    0.469999|        0.0294|     3.779999|          7.6|  REDACTED|  REDACTED|       REDACTED|       REDACTED|               20.982891|2635.63|           1|          0|           0|     0|       0|           HOME|                HOME|REDACTED|\n",
      "|2898431|    1|       14|           3|               7|2013-01-12 13:04:02|2013-01-12 13:11:18|    7.269999|      3.302999|        27.27|         45.2|  REDACTED|  REDACTED|       REDACTED|       REDACTED|                8.498116|   27.8|           1|          0|           0|     0|       0|          OTHER|               OTHER|REDACTED|\n",
      "|1129118|    2|        7|           1|               7|2012-04-28 15:11:57|2012-04-28 15:18:57|         7.0|      1.184399|    10.149999|         49.7|  REDACTED|  REDACTED|       REDACTED|       REDACTED|                6.826606|   2.02|           1|          0|           0|     0|       0|          OTHER|               OTHER|REDACTED|\n",
      "|2585281|    3|       37|           6|               5|2012-09-23 16:38:06|2012-09-23 16:39:11|        1.08|        0.3483|        19.29|         28.7|  REDACTED|  REDACTED|       REDACTED|       REDACTED|               27.833645| 994.87|           1|          0|           0|     0|       0|          OTHER|                HOME|REDACTED|\n",
      "|2433431|    1|       37|           4|              13|2012-09-08 16:34:12|2012-09-08 16:37:04|    2.869999|      0.746299|    15.619999|         26.5|  REDACTED|  REDACTED|       REDACTED|       REDACTED|                8.646685|  74.78|           1|          0|           0|     0|       0|          OTHER|                HOME|REDACTED|\n",
      "|2904556|    1|        9|           6|               2|2013-01-02 12:41:03|2013-01-02 12:49:31|        8.47|      5.678199|    40.240001|         59.8|  REDACTED|  REDACTED|       REDACTED|       REDACTED|               15.736114|  54.05|           1|          0|           0|     0|       0|           WORK|               OTHER|REDACTED|\n",
      "|1715353|    2|       32|           7|               6|2012-07-28 17:27:38|2012-07-28 17:33:44|    6.099999|      2.209599|    21.729999|         55.5|  REDACTED|  REDACTED|       REDACTED|       REDACTED|                5.780052|  13.23|           1|          0|           0|     0|       0|          OTHER|               OTHER|REDACTED|\n",
      "|1732821|    3|       15|           3|               3|2012-06-22 18:24:37|2012-06-22 18:38:42|   14.079999|      5.974699|        25.45|         58.0|  REDACTED|  REDACTED|       REDACTED|       REDACTED|              134.990779| 281.13|           1|          0|           0|     0|       0|           HOME|               OTHER|REDACTED|\n",
      "|2472150|    2|       42|           7|               2|2012-07-19 15:12:36|2012-07-19 15:52:34|   39.970001|        27.863|    41.830001|         76.4|  REDACTED|  REDACTED|       REDACTED|       REDACTED|                    NULL|   67.4|           1|          0|           0|     0|       0|          OTHER|                HOME|REDACTED|\n",
      "|2479420|    1|        6|           1|               6|2012-12-29 15:51:47|2012-12-29 15:55:56|        4.15|      0.765399|    11.069999|         27.8|  REDACTED|  REDACTED|       REDACTED|       REDACTED|               14.457637| 1199.0|           1|          0|           0|     0|       0|          OTHER|                HOME|REDACTED|\n",
      "|2486662|    3|        3|           2|               3|2012-09-22 14:32:43|2012-09-22 14:42:06|        9.38|      3.789099|    24.229999|         49.2|  REDACTED|  REDACTED|       REDACTED|       REDACTED|               21.035273|   1.62|           1|          0|           0|     0|       0|          OTHER|                WORK|REDACTED|\n",
      "|7188144|    2|       24|           4|               6|2012-12-07 14:57:29|2012-12-07 15:03:01|        5.53|        1.8865|    20.459999|         44.2|  REDACTED|  REDACTED|       REDACTED|       REDACTED|               13.377632| 120.33|           1|          0|           0|     0|       0|          OTHER|                HOME|REDACTED|\n",
      "|7188290|    2|       19|           7|               2|2013-01-15 17:03:35|2013-01-15 17:15:35|        12.0|      3.968899|        19.84|         54.6|  REDACTED|  REDACTED|       REDACTED|       REDACTED|              600.694596|  852.0|           1|          0|           0|     0|       0|           WORK|                HOME|REDACTED|\n",
      "|7203602|    1|       32|           6|               2|2013-01-23 12:45:54|2013-01-23 12:55:15|        9.35|      5.111299|    32.799999|         48.4|  REDACTED|  REDACTED|       REDACTED|       REDACTED|                8.513053|  27.42|           1|          0|           0|     0|       0|          OTHER|               OTHER|REDACTED|\n",
      "+-------+-----+---------+------------+----------------+-------------------+-------------------+------------+--------------+-------------+-------------+----------+----------+---------------+---------------+------------------------+-------+------------+-----------+------------+------+--------+---------------+--------------------+--------+\n",
      "only showing top 20 rows\n",
      "\n"
     ]
    },
    {
     "data": {
      "text/plain": [
       "63959"
      ]
     },
     "execution_count": 7,
     "metadata": {},
     "output_type": "execute_result"
    }
   ],
   "source": [
    "df_obd_gpstrips = spark.read.option(\"header\", True).csv(\"data/obd_gpstrips.csv\")\n",
    "\n",
    "# Show the first few rows\n",
    "df_obd_gpstrips.show()\n",
    "\n",
    "df_obd_gpstrips.count()"
   ]
  },
  {
   "cell_type": "code",
   "execution_count": 8,
   "metadata": {},
   "outputs": [
    {
     "name": "stdout",
     "output_type": "stream",
     "text": [
      "+------+---------+---------+-------------------+-------------------+-------------------+-------------------+-------------------+--------+---------------+--------+---------+---------+--------------+-----------------+---------------------+------------------------+----------+----------+----------+----------+----------+-----------------+-----------------+-----------------+-----------------+-----------------+-------------------+-------------------+-------------------+-------------------+-------------------+---------------+---------------+---------------+------------------+---------------------+-------------------------+----------------------------+----------------------+----------+--------------+\n",
      "|tripid|obdfileid|triporder|          starttime|            endtime|       starttimeutc|         endtimeutc|tripdurationminutes|     vin|vehicleprotocol|maxspeed| avgspeed| distance|hardbrakecount|extremebrakecount|hardaccelerationcount|extremeaccelerationcount|parameter1|parameter2|parameter3|parameter4|parameter5|samplinginterval1|samplinginterval2|samplinginterval3|samplinginterval4|samplinginterval5|parametersupported1|parametersupported2|parametersupported3|parametersupported4|parametersupported5|speedthreshold1|speedthreshold2|speedthreshold3|hardbrakethreshold|extremebrakethreshold|hardaccelerationthreshold|extremeaccelerationthreshold|disconnectedduringtrip|orphantrip|corruptiontype|\n",
      "+------+---------+---------+-------------------+-------------------+-------------------+-------------------+-------------------+--------+---------------+--------+---------+---------+--------------+-----------------+---------------------+------------------------+----------+----------+----------+----------+----------+-----------------+-----------------+-----------------+-----------------+-----------------+-------------------+-------------------+-------------------+-------------------+-------------------+---------------+---------------+---------------+------------------+---------------------+-------------------------+----------------------------+----------------------+----------+--------------+\n",
      "|     1|        1|        1|2012-01-31 16:15:30|2012-01-31 16:19:28|2012-02-01 00:15:30|2012-02-01 00:19:28|                  4|REDACTED|              1|      41|12.288888| 0.812432|             0|                0|                    0|                       0|         1|         7|         5|         2|         3|                1|                5|                5|                5|                5|                  1|                  1|                  1|                  1|                  1|       72.42048|       96.56064|      112.65408|           0.36823|             0.509858|                 0.283254|                    0.424881|                     1|         0|             0|\n",
      "|     2|        1|        2|2012-02-02 07:47:44|2012-02-02 08:12:47|2012-02-02 15:47:44|2012-02-02 16:12:47|                 25|REDACTED|              1|      78|34.736241| 14.50238|             0|                0|                    0|                       0|         1|         7|         5|         2|         3|                1|                5|                5|                5|                5|                  1|                  1|                  1|                  1|                  1|       72.42048|       96.56064|      112.65408|           0.36823|             0.509858|                 0.283254|                    0.424881|                     1|         0|             0|\n",
      "|     3|        1|        3|2012-02-02 08:39:06|2012-02-02 08:44:26|2012-02-02 16:39:06|2012-02-02 16:44:26|                  5|REDACTED|              1|      61|32.345276| 2.875135|             0|                0|                    0|                       0|         1|         7|         5|         2|         3|                1|                5|                5|                5|                5|                  1|                  1|                  1|                  1|                  1|       72.42048|       96.56064|      112.65408|           0.36823|             0.509858|                 0.283254|                    0.424881|                     1|         0|             0|\n",
      "|     4|        1|        4|2012-02-02 08:46:13|2012-02-02 08:50:50|2012-02-02 16:46:13|2012-02-02 16:50:50|                  5|REDACTED|              1|      45|22.395437| 1.723204|             0|                0|                    0|                       0|         1|         7|         5|         2|         3|                1|                5|                5|                5|                5|                  1|                  1|                  1|                  1|                  1|       72.42048|       96.56064|      112.65408|           0.36823|             0.509858|                 0.283254|                    0.424881|                     1|         0|             0|\n",
      "|     5|        1|        5|2012-02-02 09:00:15|2012-02-02 09:05:56|2012-02-02 17:00:15|2012-02-02 17:05:56|                  6|REDACTED|              1|      97|60.152439| 5.697772|             0|                0|                    0|                       0|         1|         7|         5|         2|         3|                1|                5|                5|                5|                5|                  1|                  1|                  1|                  1|                  1|       72.42048|       96.56064|      112.65408|           0.36823|             0.509858|                 0.283254|                    0.424881|                     1|         0|             0|\n",
      "|     6|        1|        6|2012-02-02 09:16:59|2012-02-02 09:26:10|2012-02-02 17:16:59|2012-02-02 17:26:10|                  9|REDACTED|              1|      87|36.767657| 5.627494|             0|                0|                    0|                       0|         1|         7|         5|         2|         3|                1|                5|                5|                5|                5|                  1|                  1|                  1|                  1|                  1|       72.42048|       96.56064|      112.65408|           0.36823|             0.509858|                 0.283254|                    0.424881|                     0|         0|             0|\n",
      "|     7|        1|        7|2012-02-02 10:06:50|2012-02-02 10:23:32|2012-02-02 18:06:50|2012-02-02 18:23:32|                 17|REDACTED|              1|     102|41.510616|11.553788|             1|                0|                    0|                       0|         1|         7|         5|         2|         3|                1|                5|                5|                5|                5|                  1|                  1|                  1|                  1|                  1|       72.42048|       96.56064|      112.65408|           0.36823|             0.509858|                 0.283254|                    0.424881|                     0|         0|             0|\n",
      "|     8|        1|        8|2012-02-02 11:53:44|2012-02-02 12:00:03|2012-02-02 19:53:44|2012-02-02 20:00:03|                  6|REDACTED|              1|      54|31.568306| 3.323441|             0|                0|                    0|                       0|         1|         7|         5|         2|         3|                1|                5|                5|                5|                5|                  1|                  1|                  1|                  1|                  1|       72.42048|       96.56064|      112.65408|           0.36823|             0.509858|                 0.283254|                    0.424881|                     0|         0|             0|\n",
      "|     9|        1|        9|2012-02-02 12:54:38|2012-02-02 13:09:10|2012-02-02 20:54:38|2012-02-02 21:09:10|                 15|REDACTED|              1|      68|38.537834| 9.334719|             1|                0|                    0|                       0|         1|         7|         5|         2|         3|                1|                5|                5|                5|                5|                  1|                  1|                  1|                  1|                  1|       72.42048|       96.56064|      112.65408|           0.36823|             0.509858|                 0.283254|                    0.424881|                     1|         0|             0|\n",
      "|    10|        1|       10|2012-02-02 15:32:37|2012-02-02 15:46:40|2012-02-02 23:32:37|2012-02-02 23:46:40|                 14|REDACTED|              1|      70|40.327294| 9.443308|             0|                0|                    0|                       0|         1|         7|         5|         2|         3|                1|                5|                5|                5|                5|                  1|                  1|                  1|                  1|                  1|       72.42048|       96.56064|      112.65408|           0.36823|             0.509858|                 0.283254|                    0.424881|                     1|         0|             0|\n",
      "|    11|        1|       11|2012-02-03 08:17:50|2012-02-03 08:33:28|2012-02-03 16:17:50|2012-02-03 16:33:28|                 16|REDACTED|              1|      69|35.848648| 9.340564|             0|                0|                    0|                       0|         1|         7|         5|         2|         3|                1|                5|                5|                5|                5|                  1|                  1|                  1|                  1|                  1|       72.42048|       96.56064|      112.65408|           0.36823|             0.509858|                 0.283254|                    0.424881|                     1|         0|             0|\n",
      "|    12|        1|       12|2012-02-03 09:57:05|2012-02-03 09:59:04|2012-02-03 17:57:05|2012-02-03 17:59:04|                  2|REDACTED|              1|      31|15.471698| 0.511425|             0|                0|                    0|                       0|         1|         7|         5|         2|         3|                1|                5|                5|                5|                5|                  1|                  1|                  1|                  1|                  1|       72.42048|       96.56064|      112.65408|           0.36823|             0.509858|                 0.283254|                    0.424881|                     1|         0|             0|\n",
      "|    13|        1|       13|2012-02-03 10:07:56|2012-02-03 10:15:53|2012-02-03 18:07:56|2012-02-03 18:15:53|                  8|REDACTED|              1|      73|48.010775| 6.361427|             0|                0|                    0|                       0|         1|         7|         5|         2|         3|                1|                5|                5|                5|                5|                  1|                  1|                  1|                  1|                  1|       72.42048|       96.56064|      112.65408|           0.36823|             0.509858|                 0.283254|                    0.424881|                     1|         0|             0|\n",
      "|    14|        1|       14|2012-02-03 12:14:52|2012-02-03 12:22:14|2012-02-03 20:14:52|2012-02-03 20:22:14|                  7|REDACTED|              1|      53|27.011682| 3.316434|             0|                0|                    0|                       0|         1|         7|         5|         2|         3|                1|                5|                5|                5|                5|                  1|                  1|                  1|                  1|                  1|       72.42048|       96.56064|      112.65408|           0.36823|             0.509858|                 0.283254|                    0.424881|                     1|         0|             0|\n",
      "|    15|        1|       15|2012-02-06 10:05:22|2012-02-06 10:11:41|2012-02-06 18:05:22|2012-02-06 18:11:41|                  6|REDACTED|              1|      53| 31.07377| 3.271377|             0|                0|                    0|                       0|         1|         7|         5|         2|         3|                1|                5|                5|                5|                5|                  1|                  1|                  1|                  1|                  1|       72.42048|       96.56064|      112.65408|           0.36823|             0.509858|                 0.283254|                    0.424881|                     0|         0|             0|\n",
      "|    16|        1|       16|2012-02-06 12:22:08|2012-02-06 12:28:50|2012-02-06 20:22:08|2012-02-06 20:28:50|                  7|REDACTED|              1|      54|29.776349| 3.325025|             0|                0|                    0|                       0|         1|         7|         5|         2|         3|                1|                5|                5|                5|                5|                  1|                  1|                  1|                  1|                  1|       72.42048|       96.56064|      112.65408|           0.36823|             0.509858|                 0.283254|                    0.424881|                     0|         0|             0|\n",
      "|    17|        1|       17|2012-02-06 13:24:25|2012-02-06 13:40:24|2012-02-06 21:24:25|2012-02-06 21:40:24|                 16|REDACTED|              1|      97|48.042283| 12.79793|             0|                0|                    0|                       0|         1|         7|         5|         2|         3|                1|                5|                5|                5|                5|                  1|                  1|                  1|                  1|                  1|       72.42048|       96.56064|      112.65408|           0.36823|             0.509858|                 0.283254|                    0.424881|                     1|         0|             0|\n",
      "|    18|        1|       18|2012-02-06 13:42:43|2012-02-06 13:46:15|2012-02-06 21:42:43|2012-02-06 21:46:15|                  4|REDACTED|              1|      39|18.035353| 1.062081|             0|                0|                    0|                       0|         1|         7|         5|         2|         3|                1|                5|                5|                5|                5|                  1|                  1|                  1|                  1|                  1|       72.42048|       96.56064|      112.65408|           0.36823|             0.509858|                 0.283254|                    0.424881|                     1|         0|             0|\n",
      "|    19|        1|       19|2012-02-06 13:50:00|2012-02-06 13:57:16|2012-02-06 21:50:00|2012-02-06 21:57:16|                  7|REDACTED|              1|      89|52.985815| 6.417171|             0|                0|                    0|                       0|         1|         7|         5|         2|         3|                1|                5|                5|                5|                5|                  1|                  1|                  1|                  1|                  1|       72.42048|       96.56064|      112.65408|           0.36823|             0.509858|                 0.283254|                    0.424881|                     1|         0|             0|\n",
      "|    20|        1|       20|2012-02-06 14:01:13|2012-02-06 14:20:30|2012-02-06 22:01:13|2012-02-06 22:20:30|                 19|REDACTED|              1|      70|31.798775|10.219773|             0|                0|                    0|                       0|         1|         7|         5|         2|         3|                1|                5|                5|                5|                5|                  1|                  1|                  1|                  1|                  1|       72.42048|       96.56064|      112.65408|           0.36823|             0.509858|                 0.283254|                    0.424881|                     1|         0|             0|\n",
      "+------+---------+---------+-------------------+-------------------+-------------------+-------------------+-------------------+--------+---------------+--------+---------+---------+--------------+-----------------+---------------------+------------------------+----------+----------+----------+----------+----------+-----------------+-----------------+-----------------+-----------------+-----------------+-------------------+-------------------+-------------------+-------------------+-------------------+---------------+---------------+---------------+------------------+---------------------+-------------------------+----------------------------+----------------------+----------+--------------+\n",
      "only showing top 20 rows\n",
      "\n"
     ]
    },
    {
     "data": {
      "text/plain": [
       "123132"
      ]
     },
     "execution_count": 8,
     "metadata": {},
     "output_type": "execute_result"
    }
   ],
   "source": [
    "df_obdr_gpstrips = spark.read.option(\"header\", True).csv(\"data/obdr_trips.csv\")\n",
    "\n",
    "# Show the first few rows\n",
    "df_obdr_gpstrips.show()\n",
    "\n",
    "df_obdr_gpstrips.count()"
   ]
  }
 ],
 "metadata": {
  "kernelspec": {
   "display_name": "pyspark_env",
   "language": "python",
   "name": "python3"
  },
  "language_info": {
   "codemirror_mode": {
    "name": "ipython",
    "version": 3
   },
   "file_extension": ".py",
   "mimetype": "text/x-python",
   "name": "python",
   "nbconvert_exporter": "python",
   "pygments_lexer": "ipython3",
   "version": "3.10.16"
  }
 },
 "nbformat": 4,
 "nbformat_minor": 2
}
